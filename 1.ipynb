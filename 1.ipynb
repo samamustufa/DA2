{
 "cells": [
  {
   "cell_type": "code",
   "execution_count": null,
   "id": "0f82c3d2",
   "metadata": {},
   "outputs": [],
   "source": [
    "# SciPy\n",
    "\n",
    "> Numpy provides a high-performance multidimensional array and basic tools to compute with and manipulate these arrays.\n",
    "\n",
    "> SciPy provides a large number of functions that operate on numpy arrays and are useful for different types of scientific\n",
    "and engineering applications.\n",
    "\n"
   ]
  }
 ],
 "metadata": {
  "kernelspec": {
   "display_name": "Python 3",
   "language": "python",
   "name": "python3"
  },
  "language_info": {
   "codemirror_mode": {
    "name": "ipython",
    "version": 3
   },
   "file_extension": ".py",
   "mimetype": "text/x-python",
   "name": "python",
   "nbconvert_exporter": "python",
   "pygments_lexer": "ipython3",
   "version": "3.8.8"
  }
 },
 "nbformat": 4,
 "nbformat_minor": 5
}
